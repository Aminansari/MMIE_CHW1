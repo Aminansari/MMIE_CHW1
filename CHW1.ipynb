{
  "cells": [
    {
      "cell_type": "markdown",
      "metadata": {
        "id": "6DjNbXa-VC9M"
      },
      "source": [
        "<h1 align=\"center\">Mathematical Methods In Engineering - 25872</h1>\n",
        "<h4 align=\"center\">Dr. Amiri</h4>\n",
        "<h4 align=\"center\">Sharif University of Technology, Spring 2023</h4>\n",
        "<h4 align=\"center\">Python Assignment 1</h4>\n",
        "<h4 align=\"center\">If you have any question about homework :\n",
        "for number 1,4 : @AHY2002 and for questions number 2,3,5 : @Mbnkh10\n"
      ]
    },
    {
      "cell_type": "code",
      "execution_count": 3,
      "metadata": {
        "id": "1IKM9rGeVC9R"
      },
      "outputs": [],
      "source": [
        "# import required packages\n",
        "import numpy as np\n",
        "import cv2 #Install opencv-python by issuing the following command: (pip install opencv-python)\n",
        "import time\n",
        "import random"
      ]
    },
    {
      "cell_type": "markdown",
      "metadata": {
        "id": "n294aua-HwlK"
      },
      "source": [
        "You should write your code in the <font color='green'>Code Cell</font> and then run the <font color='green'>Evaluation Cell</font> to check the correctness of your code.<br>\n",
        "<font color='red'>**Please do not edit the codes in the Evaluation Cells.**</font>"
      ]
    },
    {
      "cell_type": "markdown",
      "metadata": {
        "id": "bggG3YqIVC9U"
      },
      "source": [
        "## 1. LDU decomposition\n",
        "In linear algebra, LU decomposition factors a matrix ($\\textbf{A} :n \\times n$) as the product of a lower triangular matrix ($\\textbf{L} :n \\times n$) and an upper triangular matrix ($\\textbf{U} :n \\times n$). The product sometimes includes a permutation matrix ($\\textbf{P} :n \\times n$) as well.\n",
        "$$ \\textbf{PA} = \\textbf{LU} $$\n",
        "We know that the elements on the main diagonal of the $\\textbf{U}$ are the pivots. So $\\textbf{U}$ can be decomposed into a diagonal matrix ($\\textbf{D} :n \\times n$) with elements whose pivots are on the main diagonal and a normalized $\\textbf{U}$ matrix.\n",
        "$$ \\textbf{PA} = \\textbf{LDU} $$\n",
        ">Complete the function below.<br>\n",
        ">Note that in this problem, we assume that the elimination process does not require any row permutation.<br>"
      ]
    },
    {
      "cell_type": "code",
      "execution_count": null,
      "metadata": {
        "id": "ZzFnxtOIVC9W"
      },
      "outputs": [],
      "source": [
        "# Code cell\n",
        "def LDU_decomposition(A):\n",
        "    \n",
        "  n = A.shape[0]\n",
        "  L = np.eye(n)\n",
        "  U = A.copy()\n",
        "    \n",
        "  for i in range(n):\n",
        "    multiplier = U[i+1:, i] / U[i, i]\n",
        "    L[i+1:, i] = multiplier\n",
        "    U[i+1:] -= multiplier[:, np.newaxis] * U[i]\n",
        "\n",
        "  D = np.diag(np.diag(U))\n",
        "  U = np.linalg.inv(D) @ U\n",
        "  return L, D, U"
      ]
    },
    {
      "cell_type": "code",
      "execution_count": null,
      "metadata": {
        "id": "TRS5pn5xVC9W",
        "outputId": "669710cb-3794-4009-dbdf-2a5107993aaf",
        "colab": {
          "base_uri": "https://localhost:8080/"
        }
      },
      "outputs": [
        {
          "output_type": "stream",
          "name": "stdout",
          "text": [
            "status: successful\n"
          ]
        }
      ],
      "source": [
        "# Evaluation Cell\n",
        "n = random.randint(10,50)\n",
        "A = np.random.randn(n, n)\n",
        "L,D,U = LDU_decomposition(A.copy())\n",
        "\n",
        "assert np.linalg.norm(L - np.tril(L)) < 1e-10, \"L is not lower triangular\"\n",
        "assert np.linalg.norm(D - np.diag(np.diag(D))) < 1e-10, \"D is not diagonal\"\n",
        "assert np.linalg.norm(U - np.triu(U)) < 1e-10, \"U is not upper triangular\"\n",
        "assert np.linalg.norm(A - L @ D @ U) < 1e-10, \"L and D and U does not satisfy A = LDU\"\n",
        "\n",
        "print('status: successful')"
      ]
    },
    {
      "cell_type": "markdown",
      "metadata": {
        "id": "9PIijJ9xhISC"
      },
      "source": [
        "## 2. Gauss-Jordan's method for matrix inversion\n",
        "\n",
        "**Definition** : \n",
        "Let $\\textbf{A}$ be an $n \\times n$ matrix. Its inverse, if it exists, is the $n \\times n$ matrix $\\textbf{A}^{-1}$ such that\n",
        "\n",
        "$$ \\textbf{AA}^{-1} = \\textbf{I} $$\n",
        "\n",
        "Where $\\textbf{I}$ is the $n \\times n$ identity matrix. If $\\textbf{A}^{-1}$ exists, we say that $\\textbf{A}$ is invertible. Not all square matrices are invertible, but you don't need to worry about this issue in this problem.You Should calculate inverse of matrix in Gauss-Jordan method.\n",
        "First, form the augmented matrix for the matrix $\\textbf{A}$, then triangulate the matrix using the elimination method. In the next step, set the non-zero elements above the pivots to zero, and at the end, divide each row into pivots so that the pivots are equal to one."
      ]
    },
    {
      "cell_type": "code",
      "execution_count": 6,
      "metadata": {
        "id": "kJvGceJhhDH3"
      },
      "outputs": [],
      "source": [
        "# Code cell\n",
        "def inverse(A):\n",
        "    \n",
        "  \"\"\"\n",
        "    Computes the inverse of the input matrix\n",
        "    \n",
        "    inputs:\n",
        "      A (numpy ndarray): input matrix\n",
        "        \n",
        "    outputs:\n",
        "      A_inv (numpy ndarray): inverse of the input matrix\n",
        "  \"\"\"\n",
        "\n",
        "  # write your code here\n",
        "  n = A.shape[0]\n",
        "  A_inv = np.hstack([A, np.eye(n)])\n",
        "\n",
        "  for i in range(n):\n",
        "    multiplier = A_inv[i+1:, i] / A_inv[i,i]\n",
        "    A_inv[i+1:] -= multiplier[:, np.newaxis] * A_inv[i]\n",
        "\n",
        "  for i in range(n-1, -1, -1):\n",
        "    for j in range(i-1, -1, -1):\n",
        "      if A_inv[j][i] != 0:\n",
        "        multiplier = A_inv[j][i]/A_inv[i][i]\n",
        "        A_inv[j] -= multiplier * A_inv[i]\n",
        "    \n",
        "  for i in range(n):\n",
        "    A_inv[i] /= A_inv[i][i]\n",
        "\n",
        "  return A_inv[:,n:]"
      ]
    },
    {
      "cell_type": "code",
      "execution_count": 13,
      "metadata": {
        "id": "ZN32OUKPIc7V",
        "outputId": "dd0b32ff-506a-4a14-d2ec-cb20a18bd303",
        "colab": {
          "base_uri": "https://localhost:8080/"
        }
      },
      "outputs": [
        {
          "output_type": "stream",
          "name": "stdout",
          "text": [
            "status: successful, time elapsed: 0.0045 seconds\n"
          ]
        }
      ],
      "source": [
        "# Evaluation Cell\n",
        "\n",
        "n = random.randint(10,50)\n",
        "A = np.random.rand(n, n) + n * np.eye(n, n)\n",
        "s = time.time()\n",
        "A_inv = inverse(A.copy())\n",
        "elapsed = time.time() - s\n",
        "\n",
        "assert np.linalg.norm(A @ A_inv - np.eye(n, n)) < 1e-10, \"A_inv does not satisfy A @ A_inv = I\"\n",
        "\n",
        "print(f'status: successful, time elapsed: {np.round(elapsed, 5)} seconds')"
      ]
    },
    {
      "cell_type": "markdown",
      "metadata": {
        "id": "6HPK7WMfWirt"
      },
      "source": [
        "## 3. Matrix eliminiation\n",
        " \n",
        "Gaussian elimination is a popular method for solving systems of linear equations. It involves performing a series of row operations on the augmented matrix of the system until it is in row echelon form, and then back-substituting to solve for the unknowns.\n",
        "The function gauss_elim takes two arguments: the matrix A representing the coefficients of the equations and the columns of matrix A are linearly independent, and the vector b representing the constants on the right-hand side of the equations. It returns the solution vector x.\n",
        "\n",
        "Here's an example of using the function to solve a system of equations:\n",
        "$$\n",
        "A = \\left(\\begin{array}{cc} \n",
        "2 & 1 & -1\\\\ \n",
        "4 & -6 & 0\\\\ \n",
        "-2 & 7 & 2\n",
        "\\end{array}\\right)\n",
        "$$\n",
        "\n",
        "\n",
        "$$\n",
        "b = \\left(\\begin{array}{cc} \n",
        "8\\\\ -2\\\\7\n",
        "\\end{array}\\right)\n",
        "$$\n",
        "This will output the solution :\n",
        "$$\n",
        "x = \\left(\\begin{array}{cc} \n",
        "-1.0\\\\ 1.0 \\\\2.0\n",
        "\\end{array}\\right)\n",
        "$$"
      ]
    },
    {
      "cell_type": "code",
      "execution_count": null,
      "metadata": {
        "id": "-wTfCbBHL3R_"
      },
      "outputs": [],
      "source": [
        "# Code cell\n",
        "def gaussian_elimination(A, b):\n",
        "    \"\"\"\n",
        "        matrix A represents the coefficients of the equations and the columns of matrix A are linearly independent\n",
        "\n",
        "        vector b representing the constants \n",
        "\n",
        "    \"\"\"\n",
        "        # write your code here\n",
        "    pass\n",
        "      "
      ]
    },
    {
      "cell_type": "code",
      "source": [
        "# Evaluation Cell\n",
        "n = 10\n",
        "A = np.zeros((10,10))\n",
        "b = np.random.randint(100, size=(10))\n",
        "while np.linalg.matrix_rank(A) != n: \n",
        "  A = np.random.randint(0,100,(n, n))\n",
        "s = time.time()\n",
        "elapsed = time.time() - s\n",
        "assert np.linalg.norm(A @ gaussian_elimination(A,b) - b) < 1e-7, \"A,b does not satisfy x\"\n",
        "print(f'status: successful, time elapsed: {np.round(elapsed, 5)} seconds')"
      ],
      "metadata": {
        "colab": {
          "base_uri": "https://localhost:8080/"
        },
        "id": "BkUmUTt3n1Jl",
        "outputId": "04c99f9e-cdad-42d6-db17-051245c4eddb"
      },
      "execution_count": null,
      "outputs": [
        {
          "output_type": "stream",
          "name": "stdout",
          "text": [
            "status: successful, time elapsed: 4e-05 seconds\n"
          ]
        }
      ]
    },
    {
      "cell_type": "markdown",
      "metadata": {
        "id": "6ie_TrmxVC9Y"
      },
      "source": [
        "## 4. Image Processing\n",
        "In this section, we are going to get to know the cv2 package."
      ]
    },
    {
      "cell_type": "markdown",
      "metadata": {
        "id": "u-kpPQGZVC9Z"
      },
      "source": [
        ">Using this package, load and display the image provided to you."
      ]
    },
    {
      "cell_type": "code",
      "execution_count": null,
      "metadata": {
        "id": "O_gUGUlhVC9Z"
      },
      "outputs": [],
      "source": [
        "# Code cell\n",
        "..."
      ]
    },
    {
      "cell_type": "markdown",
      "metadata": {
        "id": "FF-vvJTsVC9Z"
      },
      "source": [
        ">Image files store color information in channels. Separate the image channels and save in the following variables and display them."
      ]
    },
    {
      "cell_type": "code",
      "execution_count": null,
      "metadata": {
        "id": "HdKEdSdoVC9a"
      },
      "outputs": [],
      "source": [
        "# Code cell\n",
        "\n",
        "red_ch : ...\n",
        "green_ch : ...\n",
        "blue : ..."
      ]
    },
    {
      "cell_type": "markdown",
      "metadata": {
        "id": "RLc_4Fd1VC9a"
      },
      "source": [
        ">Now convert your original image from the RGB color space to gray(By using the built-in functions of the cv2 package). Display the resulting image."
      ]
    },
    {
      "cell_type": "code",
      "execution_count": null,
      "metadata": {
        "id": "IDjAdXOXVC9a"
      },
      "outputs": [],
      "source": [
        "# Code cell\n",
        "..."
      ]
    },
    {
      "cell_type": "markdown",
      "metadata": {
        "id": "QDlLXs24VC9b"
      },
      "source": [
        ">Transpose the gray image matrix. what will happen?"
      ]
    },
    {
      "cell_type": "code",
      "execution_count": null,
      "metadata": {
        "id": "T-CD-fOeVC9b"
      },
      "outputs": [],
      "source": [
        "# Code cell\n",
        "..."
      ]
    },
    {
      "cell_type": "markdown",
      "metadata": {
        "id": "gg-Eqsv3VC9b"
      },
      "source": [
        ">In this section, crop the image and display only one of the flowers."
      ]
    },
    {
      "cell_type": "code",
      "execution_count": null,
      "metadata": {
        "id": "ZAIG1djUVC9c"
      },
      "outputs": [],
      "source": [
        "# Code cell\n",
        "..."
      ]
    },
    {
      "cell_type": "markdown",
      "metadata": {
        "id": "9USeEDglVC9c"
      },
      "source": [
        ">Change the place of the red and blue flowers and display the new image."
      ]
    },
    {
      "cell_type": "code",
      "execution_count": null,
      "metadata": {
        "id": "bhQYTilPVC9c"
      },
      "outputs": [],
      "source": [
        "# Code cell\n",
        "..."
      ]
    },
    {
      "cell_type": "markdown",
      "metadata": {
        "id": "7KKzPuRXVC9d"
      },
      "source": [
        ">Make the gray image lighter and darker and observe."
      ]
    },
    {
      "cell_type": "code",
      "execution_count": null,
      "metadata": {
        "id": "BvkvVfv0VC9d"
      },
      "outputs": [],
      "source": [
        "# Code cell\n",
        "..."
      ]
    },
    {
      "cell_type": "markdown",
      "metadata": {
        "id": "VAW5UmfGVC9d"
      },
      "source": [
        ">There are different ways to create a grayscale image. One of the ways is to replace the RGB values of each pixel with their average. Provide the following matrix elements in such a way that by applying this matrix to each pixel, the mean of R,G,B replaces the values of R,G,B. Then display the grayscaled image of this method.<br>\n",
        "$$Gray \\, Matrix \\, = \n",
        "\\begin{bmatrix}\n",
        "    g_{11} & g_{12} & g_{13}\\\\\n",
        "    g_{21} & g_{22} & g_{23}\\\\\n",
        "    g_{31} & g_{32} & g_{33}\n",
        "\\end{bmatrix}\n",
        "$$"
      ]
    },
    {
      "cell_type": "code",
      "execution_count": null,
      "metadata": {
        "id": "sCfOq32EVC9e"
      },
      "outputs": [],
      "source": [
        "# Code cell\n",
        "..."
      ]
    },
    {
      "cell_type": "markdown",
      "metadata": {
        "id": "EMzvfNBdVC9e"
      },
      "source": [
        ">Consider the color adjusting filter generated by the matrix : <br>\n",
        "$$Filter \\, Matrix \\, = \n",
        "\\begin{bmatrix}\n",
        "    0.7 & 0.15 & 0.15\\\\\n",
        "    0.15 & 0.7 & 0.15\\\\\n",
        "    0.15 & 0.15 & 0.7\n",
        "\\end{bmatrix}\n",
        "$$\n",
        ">Apply this filter to each pixel of image and save the result as <font color='orange'> Filt_Img </font>."
      ]
    },
    {
      "cell_type": "code",
      "execution_count": null,
      "metadata": {
        "id": "u6LxdQVQVC9f"
      },
      "outputs": [],
      "source": [
        "# Code cell\n",
        "..."
      ]
    },
    {
      "cell_type": "markdown",
      "metadata": {
        "id": "_7Z_6oRdVC9f"
      },
      "source": [
        ">Consider the matrix in the previous step. Is the transformation defined by this matrix invertible?<br>\n",
        "Which means, can you get the original image colors back once you applied the filter?<br>\n",
        "If your answer is yes, rebuild the image and display it."
      ]
    },
    {
      "cell_type": "code",
      "execution_count": null,
      "metadata": {
        "id": "a-cB7sd3VC9f"
      },
      "outputs": [],
      "source": [
        "# Code cell\n",
        "..."
      ]
    },
    {
      "cell_type": "markdown",
      "source": [
        "# 5. QR factorization(bonus)\n",
        "\n",
        "$\\textbf {Definition}$ All $\\textbf{A}_{m\\times n}$ matrix have QR factorization where Q is an orthonormal matrix and R is an upper triangular matrix.$$A=QR$$\n",
        "\n",
        "Using the HH matrix, complete the code cells below to create an algorithm for finding QR factorization of matrix A."
      ],
      "metadata": {
        "id": "Mn0Q2TPUmSz2"
      }
    },
    {
      "cell_type": "code",
      "source": [
        "#Code cell\n",
        "def my_QR(A):\n",
        "    \"\"\"\n",
        "    inputs:\n",
        "        A (numpy ndarray): input matrix\n",
        "    outputs:\n",
        "        Q (numpy ndarray): orthonormal matrix\n",
        "        R (numpy ndarray): upper triangular matrix\n",
        "    \n",
        "    \"\"\"\n",
        "    ### To Do ###\n",
        "    return Q,R"
      ],
      "metadata": {
        "id": "JKynu44oolLd"
      },
      "execution_count": null,
      "outputs": []
    },
    {
      "cell_type": "code",
      "source": [
        "# Evaluation Cell\n",
        "# time and correctness test\n",
        "numpy_test = {'upper-triangular and  orthogonal test error':0.0, 'correctness test error':0.0}\n",
        "yours_test = {'upper-triangular and  orthogonal test error':0.0, 'correctness test error':0.0}\n",
        "\n",
        "num_test = 50\n",
        "for i in range(num_test):\n",
        "    m, n = np.random.randint(40, 50), np.random.randint(40, 50)\n",
        "    A = np.random.randn(m,n)\n",
        "\n",
        "    # numpy code\n",
        "    Q, R = np.linalg.qr(A.copy(), mode='complete')\n",
        "    numpy_test['upper-triangular and  orthogonal test error'] += np.linalg.norm(np.tril(R,-1)) + np.linalg.norm(np.eye(m) - Q @ Q.T)\n",
        "    numpy_test['correctness test error'] += np.linalg.norm(A - Q @ R)\n",
        "\n",
        "     ### To Do ###\n",
        "    \n",
        "    my_Q, my_R = my_QR(A.copy())\n",
        "    yours_test['upper-triangular and  orthogonal test error'] += np.linalg.norm(np.tril(my_R,-1)) + np.linalg.norm(np.eye(m) - my_Q @ my_Q.T)\n",
        "    yours_test['correctness test error'] += np.linalg.norm(A - my_Q @ my_R)\n",
        "\n",
        "for name in numpy_test:\n",
        "    numpy_test[name] /= num_test\n",
        "    yours_test[name] /= num_test\n",
        "\n",
        "yours_check = {'upper-triangular and  orthogonal test error': yours_test['upper-triangular and  orthogonal test error'] <= 1e-5, \n",
        "               'correctness test error': yours_test['correctness test error'] <= 1e-5}\n",
        "\n",
        "print(f'numpy| test ---> {numpy_test}')\n",
        "print(f'yours| test ---> {yours_test}')\n",
        "print(f'yours| check ---> {yours_check}')"
      ],
      "metadata": {
        "colab": {
          "base_uri": "https://localhost:8080/"
        },
        "id": "ZbAle0Vaoosp",
        "outputId": "bdcbb98a-7fdf-4c56-b92f-e64152e7343f"
      },
      "execution_count": null,
      "outputs": [
        {
          "output_type": "stream",
          "name": "stdout",
          "text": [
            "numpy| test ---> {'upper-triangular and  orthogonal test error': 4.051735613946471e-15, 'correctness test error': 2.1918836543159824e-14}\n",
            "yours| test ---> {'upper-triangular and  orthogonal test error': 4.051735613946471e-15, 'correctness test error': 2.1918836543159824e-14}\n",
            "yours| check ---> {'upper-triangular and  orthogonal test error': True, 'correctness test error': True}\n"
          ]
        }
      ]
    }
  ],
  "metadata": {
    "colab": {
      "provenance": []
    },
    "kernelspec": {
      "display_name": "Python 3",
      "language": "python",
      "name": "python3"
    },
    "language_info": {
      "codemirror_mode": {
        "name": "ipython",
        "version": 3
      },
      "file_extension": ".py",
      "mimetype": "text/x-python",
      "name": "python",
      "nbconvert_exporter": "python",
      "pygments_lexer": "ipython3",
      "version": "3.11.0 (main, Oct 24 2022, 18:26:48) [MSC v.1933 64 bit (AMD64)]"
    },
    "orig_nbformat": 4,
    "vscode": {
      "interpreter": {
        "hash": "e450050b432e843bda3c41bf3272c133bfc370a7003f3e377e27f87a49ce1127"
      }
    }
  },
  "nbformat": 4,
  "nbformat_minor": 0
}